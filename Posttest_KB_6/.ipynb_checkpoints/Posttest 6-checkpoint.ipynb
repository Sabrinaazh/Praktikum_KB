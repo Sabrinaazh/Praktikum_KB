{
 "cells": [
  {
   "cell_type": "markdown",
   "id": "c1e628e2-ab7b-493c-a5fb-24449faab13a",
   "metadata": {},
   "source": [
    "# SABRINA NUR AZ-ZAHRA (2109106016)"
   ]
  },
  {
   "cell_type": "markdown",
   "id": "d57894d8-b96f-418b-b9ff-08b136c4819a",
   "metadata": {},
   "source": [
    "## POSTTEST 6"
   ]
  },
  {
   "cell_type": "markdown",
   "id": "2b098e65-dcaf-47d4-96dc-5c7961b704d0",
   "metadata": {},
   "source": [
    "### IMPORT LIBRARY"
   ]
  },
  {
   "cell_type": "code",
   "execution_count": 1,
   "id": "19ee5c32-ce55-43da-8fe6-b04f1191d1a7",
   "metadata": {},
   "outputs": [],
   "source": [
    "import pandas as pd\n",
    "from sklearn.model_selection import train_test_split\n",
    "from sklearn.preprocessing import StandardScaler, LabelEncoder\n",
    "from sklearn.metrics import accuracy_score, r2_score\n",
    "from tensorflow.keras.models import Sequential\n",
    "from tensorflow.keras.layers import Dense\n",
    "from tensorflow.keras.callbacks import EarlyStopping\n",
    "import matplotlib.pyplot as plt"
   ]
  },
  {
   "cell_type": "markdown",
   "id": "2aa3d471-17c5-4955-9eff-8488f1c4cb4c",
   "metadata": {},
   "source": [
    "### MEMBACA DATASET"
   ]
  },
  {
   "cell_type": "code",
   "execution_count": 2,
   "id": "57dddcc3-8929-4de3-9325-a95cc38d7ab5",
   "metadata": {},
   "outputs": [
    {
     "data": {
      "text/html": [
       "<div>\n",
       "<style scoped>\n",
       "    .dataframe tbody tr th:only-of-type {\n",
       "        vertical-align: middle;\n",
       "    }\n",
       "\n",
       "    .dataframe tbody tr th {\n",
       "        vertical-align: top;\n",
       "    }\n",
       "\n",
       "    .dataframe thead th {\n",
       "        text-align: right;\n",
       "    }\n",
       "</style>\n",
       "<table border=\"1\" class=\"dataframe\">\n",
       "  <thead>\n",
       "    <tr style=\"text-align: right;\">\n",
       "      <th></th>\n",
       "      <th>name</th>\n",
       "      <th>rating</th>\n",
       "      <th>genre</th>\n",
       "      <th>year</th>\n",
       "      <th>released</th>\n",
       "      <th>score</th>\n",
       "      <th>votes</th>\n",
       "      <th>director</th>\n",
       "      <th>writer</th>\n",
       "      <th>star</th>\n",
       "      <th>country</th>\n",
       "      <th>budget</th>\n",
       "      <th>gross</th>\n",
       "      <th>company</th>\n",
       "      <th>runtime</th>\n",
       "    </tr>\n",
       "  </thead>\n",
       "  <tbody>\n",
       "    <tr>\n",
       "      <th>0</th>\n",
       "      <td>The Shining</td>\n",
       "      <td>R</td>\n",
       "      <td>Drama</td>\n",
       "      <td>1980</td>\n",
       "      <td>June 13, 1980 (United States)</td>\n",
       "      <td>8.4</td>\n",
       "      <td>927000.0</td>\n",
       "      <td>Stanley Kubrick</td>\n",
       "      <td>Stephen King</td>\n",
       "      <td>Jack Nicholson</td>\n",
       "      <td>United Kingdom</td>\n",
       "      <td>19000000.0</td>\n",
       "      <td>46998772.0</td>\n",
       "      <td>Warner Bros.</td>\n",
       "      <td>146.0</td>\n",
       "    </tr>\n",
       "    <tr>\n",
       "      <th>1</th>\n",
       "      <td>The Blue Lagoon</td>\n",
       "      <td>R</td>\n",
       "      <td>Adventure</td>\n",
       "      <td>1980</td>\n",
       "      <td>July 2, 1980 (United States)</td>\n",
       "      <td>5.8</td>\n",
       "      <td>65000.0</td>\n",
       "      <td>Randal Kleiser</td>\n",
       "      <td>Henry De Vere Stacpoole</td>\n",
       "      <td>Brooke Shields</td>\n",
       "      <td>United States</td>\n",
       "      <td>4500000.0</td>\n",
       "      <td>58853106.0</td>\n",
       "      <td>Columbia Pictures</td>\n",
       "      <td>104.0</td>\n",
       "    </tr>\n",
       "    <tr>\n",
       "      <th>2</th>\n",
       "      <td>Star Wars: Episode V - The Empire Strikes Back</td>\n",
       "      <td>PG</td>\n",
       "      <td>Action</td>\n",
       "      <td>1980</td>\n",
       "      <td>June 20, 1980 (United States)</td>\n",
       "      <td>8.7</td>\n",
       "      <td>1200000.0</td>\n",
       "      <td>Irvin Kershner</td>\n",
       "      <td>Leigh Brackett</td>\n",
       "      <td>Mark Hamill</td>\n",
       "      <td>United States</td>\n",
       "      <td>18000000.0</td>\n",
       "      <td>538375067.0</td>\n",
       "      <td>Lucasfilm</td>\n",
       "      <td>124.0</td>\n",
       "    </tr>\n",
       "    <tr>\n",
       "      <th>3</th>\n",
       "      <td>Airplane!</td>\n",
       "      <td>PG</td>\n",
       "      <td>Comedy</td>\n",
       "      <td>1980</td>\n",
       "      <td>July 2, 1980 (United States)</td>\n",
       "      <td>7.7</td>\n",
       "      <td>221000.0</td>\n",
       "      <td>Jim Abrahams</td>\n",
       "      <td>Jim Abrahams</td>\n",
       "      <td>Robert Hays</td>\n",
       "      <td>United States</td>\n",
       "      <td>3500000.0</td>\n",
       "      <td>83453539.0</td>\n",
       "      <td>Paramount Pictures</td>\n",
       "      <td>88.0</td>\n",
       "    </tr>\n",
       "    <tr>\n",
       "      <th>4</th>\n",
       "      <td>Caddyshack</td>\n",
       "      <td>R</td>\n",
       "      <td>Comedy</td>\n",
       "      <td>1980</td>\n",
       "      <td>July 25, 1980 (United States)</td>\n",
       "      <td>7.3</td>\n",
       "      <td>108000.0</td>\n",
       "      <td>Harold Ramis</td>\n",
       "      <td>Brian Doyle-Murray</td>\n",
       "      <td>Chevy Chase</td>\n",
       "      <td>United States</td>\n",
       "      <td>6000000.0</td>\n",
       "      <td>39846344.0</td>\n",
       "      <td>Orion Pictures</td>\n",
       "      <td>98.0</td>\n",
       "    </tr>\n",
       "    <tr>\n",
       "      <th>...</th>\n",
       "      <td>...</td>\n",
       "      <td>...</td>\n",
       "      <td>...</td>\n",
       "      <td>...</td>\n",
       "      <td>...</td>\n",
       "      <td>...</td>\n",
       "      <td>...</td>\n",
       "      <td>...</td>\n",
       "      <td>...</td>\n",
       "      <td>...</td>\n",
       "      <td>...</td>\n",
       "      <td>...</td>\n",
       "      <td>...</td>\n",
       "      <td>...</td>\n",
       "      <td>...</td>\n",
       "    </tr>\n",
       "    <tr>\n",
       "      <th>7663</th>\n",
       "      <td>More to Life</td>\n",
       "      <td>NaN</td>\n",
       "      <td>Drama</td>\n",
       "      <td>2020</td>\n",
       "      <td>October 23, 2020 (United States)</td>\n",
       "      <td>3.1</td>\n",
       "      <td>18.0</td>\n",
       "      <td>Joseph Ebanks</td>\n",
       "      <td>Joseph Ebanks</td>\n",
       "      <td>Shannon Bond</td>\n",
       "      <td>United States</td>\n",
       "      <td>7000.0</td>\n",
       "      <td>NaN</td>\n",
       "      <td>NaN</td>\n",
       "      <td>90.0</td>\n",
       "    </tr>\n",
       "    <tr>\n",
       "      <th>7664</th>\n",
       "      <td>Dream Round</td>\n",
       "      <td>NaN</td>\n",
       "      <td>Comedy</td>\n",
       "      <td>2020</td>\n",
       "      <td>February 7, 2020 (United States)</td>\n",
       "      <td>4.7</td>\n",
       "      <td>36.0</td>\n",
       "      <td>Dusty Dukatz</td>\n",
       "      <td>Lisa Huston</td>\n",
       "      <td>Michael Saquella</td>\n",
       "      <td>United States</td>\n",
       "      <td>NaN</td>\n",
       "      <td>NaN</td>\n",
       "      <td>Cactus Blue Entertainment</td>\n",
       "      <td>90.0</td>\n",
       "    </tr>\n",
       "    <tr>\n",
       "      <th>7665</th>\n",
       "      <td>Saving Mbango</td>\n",
       "      <td>NaN</td>\n",
       "      <td>Drama</td>\n",
       "      <td>2020</td>\n",
       "      <td>April 27, 2020 (Cameroon)</td>\n",
       "      <td>5.7</td>\n",
       "      <td>29.0</td>\n",
       "      <td>Nkanya Nkwai</td>\n",
       "      <td>Lynno Lovert</td>\n",
       "      <td>Onyama Laura</td>\n",
       "      <td>United States</td>\n",
       "      <td>58750.0</td>\n",
       "      <td>NaN</td>\n",
       "      <td>Embi Productions</td>\n",
       "      <td>NaN</td>\n",
       "    </tr>\n",
       "    <tr>\n",
       "      <th>7666</th>\n",
       "      <td>It's Just Us</td>\n",
       "      <td>NaN</td>\n",
       "      <td>Drama</td>\n",
       "      <td>2020</td>\n",
       "      <td>October 1, 2020 (United States)</td>\n",
       "      <td>NaN</td>\n",
       "      <td>NaN</td>\n",
       "      <td>James Randall</td>\n",
       "      <td>James Randall</td>\n",
       "      <td>Christina Roz</td>\n",
       "      <td>United States</td>\n",
       "      <td>15000.0</td>\n",
       "      <td>NaN</td>\n",
       "      <td>NaN</td>\n",
       "      <td>120.0</td>\n",
       "    </tr>\n",
       "    <tr>\n",
       "      <th>7667</th>\n",
       "      <td>Tee em el</td>\n",
       "      <td>NaN</td>\n",
       "      <td>Horror</td>\n",
       "      <td>2020</td>\n",
       "      <td>August 19, 2020 (United States)</td>\n",
       "      <td>5.7</td>\n",
       "      <td>7.0</td>\n",
       "      <td>Pereko Mosia</td>\n",
       "      <td>Pereko Mosia</td>\n",
       "      <td>Siyabonga Mabaso</td>\n",
       "      <td>South Africa</td>\n",
       "      <td>NaN</td>\n",
       "      <td>NaN</td>\n",
       "      <td>PK 65 Films</td>\n",
       "      <td>102.0</td>\n",
       "    </tr>\n",
       "  </tbody>\n",
       "</table>\n",
       "<p>7668 rows × 15 columns</p>\n",
       "</div>"
      ],
      "text/plain": [
       "                                                name rating      genre  year  \\\n",
       "0                                        The Shining      R      Drama  1980   \n",
       "1                                    The Blue Lagoon      R  Adventure  1980   \n",
       "2     Star Wars: Episode V - The Empire Strikes Back     PG     Action  1980   \n",
       "3                                          Airplane!     PG     Comedy  1980   \n",
       "4                                         Caddyshack      R     Comedy  1980   \n",
       "...                                              ...    ...        ...   ...   \n",
       "7663                                    More to Life    NaN      Drama  2020   \n",
       "7664                                     Dream Round    NaN     Comedy  2020   \n",
       "7665                                   Saving Mbango    NaN      Drama  2020   \n",
       "7666                                    It's Just Us    NaN      Drama  2020   \n",
       "7667                                       Tee em el    NaN     Horror  2020   \n",
       "\n",
       "                              released  score      votes         director  \\\n",
       "0        June 13, 1980 (United States)    8.4   927000.0  Stanley Kubrick   \n",
       "1         July 2, 1980 (United States)    5.8    65000.0   Randal Kleiser   \n",
       "2        June 20, 1980 (United States)    8.7  1200000.0   Irvin Kershner   \n",
       "3         July 2, 1980 (United States)    7.7   221000.0     Jim Abrahams   \n",
       "4        July 25, 1980 (United States)    7.3   108000.0     Harold Ramis   \n",
       "...                                ...    ...        ...              ...   \n",
       "7663  October 23, 2020 (United States)    3.1       18.0    Joseph Ebanks   \n",
       "7664  February 7, 2020 (United States)    4.7       36.0     Dusty Dukatz   \n",
       "7665         April 27, 2020 (Cameroon)    5.7       29.0     Nkanya Nkwai   \n",
       "7666   October 1, 2020 (United States)    NaN        NaN    James Randall   \n",
       "7667   August 19, 2020 (United States)    5.7        7.0     Pereko Mosia   \n",
       "\n",
       "                       writer              star         country      budget  \\\n",
       "0                Stephen King    Jack Nicholson  United Kingdom  19000000.0   \n",
       "1     Henry De Vere Stacpoole    Brooke Shields   United States   4500000.0   \n",
       "2              Leigh Brackett       Mark Hamill   United States  18000000.0   \n",
       "3                Jim Abrahams       Robert Hays   United States   3500000.0   \n",
       "4          Brian Doyle-Murray       Chevy Chase   United States   6000000.0   \n",
       "...                       ...               ...             ...         ...   \n",
       "7663            Joseph Ebanks      Shannon Bond   United States      7000.0   \n",
       "7664              Lisa Huston  Michael Saquella   United States         NaN   \n",
       "7665             Lynno Lovert      Onyama Laura   United States     58750.0   \n",
       "7666            James Randall     Christina Roz   United States     15000.0   \n",
       "7667             Pereko Mosia  Siyabonga Mabaso    South Africa         NaN   \n",
       "\n",
       "            gross                    company  runtime  \n",
       "0      46998772.0               Warner Bros.    146.0  \n",
       "1      58853106.0          Columbia Pictures    104.0  \n",
       "2     538375067.0                  Lucasfilm    124.0  \n",
       "3      83453539.0         Paramount Pictures     88.0  \n",
       "4      39846344.0             Orion Pictures     98.0  \n",
       "...           ...                        ...      ...  \n",
       "7663          NaN                        NaN     90.0  \n",
       "7664          NaN  Cactus Blue Entertainment     90.0  \n",
       "7665          NaN           Embi Productions      NaN  \n",
       "7666          NaN                        NaN    120.0  \n",
       "7667          NaN                PK 65 Films    102.0  \n",
       "\n",
       "[7668 rows x 15 columns]"
      ]
     },
     "execution_count": 2,
     "metadata": {},
     "output_type": "execute_result"
    }
   ],
   "source": [
    "data = pd.read_csv('movies.csv')\n",
    "\n",
    "data"
   ]
  },
  {
   "cell_type": "markdown",
   "id": "100603c0-ec05-45b9-84e6-1604d39ea1cd",
   "metadata": {},
   "source": [
    "### PREPROCESSING DATA"
   ]
  },
  {
   "cell_type": "code",
   "execution_count": 3,
   "id": "2dce1ab3-6ae1-4610-9be6-ea27c51501a3",
   "metadata": {},
   "outputs": [],
   "source": [
    "data.dropna(inplace=True)"
   ]
  },
  {
   "cell_type": "code",
   "execution_count": 4,
   "id": "4024bb6a-be43-466a-a3db-be46fcecbab1",
   "metadata": {},
   "outputs": [],
   "source": [
    "labelencoder = LabelEncoder()\n",
    "for col in data.columns:\n",
    "    if data[col].dtype == 'object':\n",
    "        data[col] = labelencoder.fit_transform(data[col])\n",
    "\n",
    "data['success'] = data.apply(lambda row: 1 if row['gross'] > row['budget'] else 0, axis = 1)"
   ]
  },
  {
   "cell_type": "markdown",
   "id": "7d018372-a7cf-4cf4-830d-3d9c61a05864",
   "metadata": {},
   "source": [
    "### SPLIT DATA"
   ]
  },
  {
   "cell_type": "code",
   "execution_count": 5,
   "id": "27c4c365-6134-42b8-b77e-9d94182713a6",
   "metadata": {},
   "outputs": [],
   "source": [
    "X = data.drop('success', axis=1)\n",
    "y = data['success']\n",
    "X_train, X_test, y_train, y_test = train_test_split(X, y, test_size=0.2, random_state=42)"
   ]
  },
  {
   "cell_type": "markdown",
   "id": "e1aa2f17-4f93-4acd-bf8b-93e6bf903c97",
   "metadata": {},
   "source": [
    "Melakukan Split data dengan 80:20"
   ]
  },
  {
   "cell_type": "code",
   "execution_count": 6,
   "id": "dc8b36e6-bf16-46dc-96c1-67ae00f39996",
   "metadata": {},
   "outputs": [],
   "source": [
    "scaler = StandardScaler()\n",
    "X_train = scaler.fit_transform(X_train)\n",
    "X_test = scaler.transform(X_test)"
   ]
  },
  {
   "cell_type": "markdown",
   "id": "d71bee78-b3e3-44cf-9886-fefec825a817",
   "metadata": {},
   "source": [
    "### MEMBUAT MODEL MENGGUNAKAN SQUENTIAL"
   ]
  },
  {
   "cell_type": "code",
   "execution_count": 7,
   "id": "113b6098-3a5d-4c7a-8c75-3539863b93d0",
   "metadata": {},
   "outputs": [],
   "source": [
    "model = Sequential()\n",
    "model.add(Dense(12, input_dim=15, activation='relu'))\n",
    "model.add(Dense(8, activation='relu'))\n",
    "model.add(Dense(1, activation='sigmoid'))"
   ]
  },
  {
   "cell_type": "markdown",
   "id": "0b0747b1-9f40-4dc1-af70-7844d8ac0e79",
   "metadata": {},
   "source": [
    "Pembuatan model dengan 3 layer"
   ]
  },
  {
   "cell_type": "code",
   "execution_count": 8,
   "id": "0cb88a89-3cec-40b0-9077-b7cd0db4f093",
   "metadata": {},
   "outputs": [],
   "source": [
    "model.compile(loss='binary_crossentropy', optimizer='adam', metrics=['accuracy'])"
   ]
  },
  {
   "cell_type": "code",
   "execution_count": 9,
   "id": "6d58bf2d-1e77-4d55-8a3e-910d39096d60",
   "metadata": {},
   "outputs": [],
   "source": [
    "early_stopping = EarlyStopping(monitor='val_loss', patience=10)"
   ]
  },
  {
   "cell_type": "markdown",
   "id": "b12388e8-f790-47b2-8ce5-b69e6a54f341",
   "metadata": {},
   "source": [
    "Deklarasi variabel callback untuk menghentikan training jika model sudah mencapai akurasi yang diinginkan"
   ]
  },
  {
   "cell_type": "markdown",
   "id": "9bec4531-efc5-4bae-8828-ff9122254cb9",
   "metadata": {},
   "source": [
    "### MELATIH MODEL"
   ]
  },
  {
   "cell_type": "code",
   "execution_count": 10,
   "id": "ce361c28-150e-49b8-b45a-640e199849dd",
   "metadata": {},
   "outputs": [
    {
     "name": "stdout",
     "output_type": "stream",
     "text": [
      "Epoch 1/100\n",
      "136/136 [==============================] - 1s 2ms/step - loss: 0.5992 - accuracy: 0.6720 - val_loss: 0.5608 - val_accuracy: 0.6885\n",
      "Epoch 2/100\n",
      "136/136 [==============================] - 0s 1ms/step - loss: 0.5332 - accuracy: 0.7057 - val_loss: 0.5211 - val_accuracy: 0.7171\n",
      "Epoch 3/100\n",
      "136/136 [==============================] - 0s 1ms/step - loss: 0.4924 - accuracy: 0.7394 - val_loss: 0.4916 - val_accuracy: 0.7530\n",
      "Epoch 4/100\n",
      "136/136 [==============================] - 0s 1ms/step - loss: 0.4616 - accuracy: 0.7657 - val_loss: 0.4685 - val_accuracy: 0.7650\n",
      "Epoch 5/100\n",
      "136/136 [==============================] - 0s 1ms/step - loss: 0.4351 - accuracy: 0.7906 - val_loss: 0.4467 - val_accuracy: 0.7797\n",
      "Epoch 6/100\n",
      "136/136 [==============================] - 0s 1ms/step - loss: 0.4108 - accuracy: 0.7998 - val_loss: 0.4253 - val_accuracy: 0.7917\n",
      "Epoch 7/100\n",
      "136/136 [==============================] - 0s 1ms/step - loss: 0.3867 - accuracy: 0.8148 - val_loss: 0.4033 - val_accuracy: 0.8018\n",
      "Epoch 8/100\n",
      "136/136 [==============================] - 0s 1ms/step - loss: 0.3639 - accuracy: 0.8291 - val_loss: 0.3824 - val_accuracy: 0.8129\n",
      "Epoch 9/100\n",
      "136/136 [==============================] - 0s 1ms/step - loss: 0.3415 - accuracy: 0.8434 - val_loss: 0.3629 - val_accuracy: 0.8203\n",
      "Epoch 10/100\n",
      "136/136 [==============================] - 0s 1ms/step - loss: 0.3202 - accuracy: 0.8591 - val_loss: 0.3415 - val_accuracy: 0.8387\n",
      "Epoch 11/100\n",
      "136/136 [==============================] - 0s 1ms/step - loss: 0.2999 - accuracy: 0.8688 - val_loss: 0.3292 - val_accuracy: 0.8424\n",
      "Epoch 12/100\n",
      "136/136 [==============================] - 0s 1ms/step - loss: 0.2795 - accuracy: 0.8815 - val_loss: 0.3055 - val_accuracy: 0.8535\n",
      "Epoch 13/100\n",
      "136/136 [==============================] - 0s 1ms/step - loss: 0.2618 - accuracy: 0.8921 - val_loss: 0.2903 - val_accuracy: 0.8673\n",
      "Epoch 14/100\n",
      "136/136 [==============================] - 0s 1ms/step - loss: 0.2446 - accuracy: 0.8978 - val_loss: 0.2718 - val_accuracy: 0.8765\n",
      "Epoch 15/100\n",
      "136/136 [==============================] - 0s 1ms/step - loss: 0.2296 - accuracy: 0.9087 - val_loss: 0.2548 - val_accuracy: 0.8866\n",
      "Epoch 16/100\n",
      "136/136 [==============================] - 0s 1ms/step - loss: 0.2144 - accuracy: 0.9149 - val_loss: 0.2379 - val_accuracy: 0.8986\n",
      "Epoch 17/100\n",
      "136/136 [==============================] - 0s 1ms/step - loss: 0.2007 - accuracy: 0.9218 - val_loss: 0.2278 - val_accuracy: 0.9115\n",
      "Epoch 18/100\n",
      "136/136 [==============================] - 0s 1ms/step - loss: 0.1892 - accuracy: 0.9271 - val_loss: 0.2119 - val_accuracy: 0.9161\n",
      "Epoch 19/100\n",
      "136/136 [==============================] - 0s 1ms/step - loss: 0.1759 - accuracy: 0.9354 - val_loss: 0.2006 - val_accuracy: 0.9106\n",
      "Epoch 20/100\n",
      "136/136 [==============================] - 0s 1ms/step - loss: 0.1674 - accuracy: 0.9387 - val_loss: 0.1921 - val_accuracy: 0.9253\n",
      "Epoch 21/100\n",
      "136/136 [==============================] - 0s 1ms/step - loss: 0.1592 - accuracy: 0.9421 - val_loss: 0.1896 - val_accuracy: 0.9189\n",
      "Epoch 22/100\n",
      "136/136 [==============================] - 0s 1ms/step - loss: 0.1503 - accuracy: 0.9470 - val_loss: 0.1739 - val_accuracy: 0.9300\n",
      "Epoch 23/100\n",
      "136/136 [==============================] - 0s 1ms/step - loss: 0.1430 - accuracy: 0.9516 - val_loss: 0.1658 - val_accuracy: 0.9327\n",
      "Epoch 24/100\n",
      "136/136 [==============================] - 0s 1ms/step - loss: 0.1375 - accuracy: 0.9534 - val_loss: 0.1572 - val_accuracy: 0.9456\n",
      "Epoch 25/100\n",
      "136/136 [==============================] - 0s 1ms/step - loss: 0.1315 - accuracy: 0.9553 - val_loss: 0.1536 - val_accuracy: 0.9327\n",
      "Epoch 26/100\n",
      "136/136 [==============================] - 0s 1ms/step - loss: 0.1257 - accuracy: 0.9576 - val_loss: 0.1576 - val_accuracy: 0.9290\n",
      "Epoch 27/100\n",
      "136/136 [==============================] - 0s 1ms/step - loss: 0.1214 - accuracy: 0.9585 - val_loss: 0.1407 - val_accuracy: 0.9493\n",
      "Epoch 28/100\n",
      "136/136 [==============================] - 0s 1ms/step - loss: 0.1170 - accuracy: 0.9603 - val_loss: 0.1405 - val_accuracy: 0.9465\n",
      "Epoch 29/100\n",
      "136/136 [==============================] - 0s 1ms/step - loss: 0.1131 - accuracy: 0.9629 - val_loss: 0.1365 - val_accuracy: 0.9539\n",
      "Epoch 30/100\n",
      "136/136 [==============================] - 0s 1ms/step - loss: 0.1086 - accuracy: 0.9684 - val_loss: 0.1287 - val_accuracy: 0.9594\n",
      "Epoch 31/100\n",
      "136/136 [==============================] - 0s 1ms/step - loss: 0.1053 - accuracy: 0.9666 - val_loss: 0.1241 - val_accuracy: 0.9585\n",
      "Epoch 32/100\n",
      "136/136 [==============================] - 0s 1ms/step - loss: 0.1035 - accuracy: 0.9631 - val_loss: 0.1212 - val_accuracy: 0.9604\n",
      "Epoch 33/100\n",
      "136/136 [==============================] - 0s 1ms/step - loss: 0.0984 - accuracy: 0.9700 - val_loss: 0.1259 - val_accuracy: 0.9475\n",
      "Epoch 34/100\n",
      "136/136 [==============================] - 0s 1ms/step - loss: 0.0960 - accuracy: 0.9679 - val_loss: 0.1192 - val_accuracy: 0.9567\n",
      "Epoch 35/100\n",
      "136/136 [==============================] - 0s 1ms/step - loss: 0.0941 - accuracy: 0.9693 - val_loss: 0.1138 - val_accuracy: 0.9594\n",
      "Epoch 36/100\n",
      "136/136 [==============================] - 0s 1ms/step - loss: 0.0903 - accuracy: 0.9714 - val_loss: 0.1120 - val_accuracy: 0.9604\n",
      "Epoch 37/100\n",
      "136/136 [==============================] - 0s 1ms/step - loss: 0.0889 - accuracy: 0.9719 - val_loss: 0.1122 - val_accuracy: 0.9650\n",
      "Epoch 38/100\n",
      "136/136 [==============================] - 0s 1ms/step - loss: 0.0874 - accuracy: 0.9709 - val_loss: 0.1116 - val_accuracy: 0.9631\n",
      "Epoch 39/100\n",
      "136/136 [==============================] - 0s 1ms/step - loss: 0.0854 - accuracy: 0.9709 - val_loss: 0.1076 - val_accuracy: 0.9650\n",
      "Epoch 40/100\n",
      "136/136 [==============================] - 0s 1ms/step - loss: 0.0823 - accuracy: 0.9751 - val_loss: 0.1061 - val_accuracy: 0.9696\n",
      "Epoch 41/100\n",
      "136/136 [==============================] - 0s 1ms/step - loss: 0.0800 - accuracy: 0.9756 - val_loss: 0.1057 - val_accuracy: 0.9705\n",
      "Epoch 42/100\n",
      "136/136 [==============================] - 0s 1ms/step - loss: 0.0786 - accuracy: 0.9774 - val_loss: 0.1021 - val_accuracy: 0.9742\n",
      "Epoch 43/100\n",
      "136/136 [==============================] - 0s 1ms/step - loss: 0.0773 - accuracy: 0.9739 - val_loss: 0.1005 - val_accuracy: 0.9677\n",
      "Epoch 44/100\n",
      "136/136 [==============================] - 0s 1ms/step - loss: 0.0763 - accuracy: 0.9765 - val_loss: 0.1093 - val_accuracy: 0.9594\n",
      "Epoch 45/100\n",
      "136/136 [==============================] - 0s 1ms/step - loss: 0.0754 - accuracy: 0.9751 - val_loss: 0.0963 - val_accuracy: 0.9714\n",
      "Epoch 46/100\n",
      "136/136 [==============================] - 0s 1ms/step - loss: 0.0726 - accuracy: 0.9783 - val_loss: 0.1030 - val_accuracy: 0.9659\n",
      "Epoch 47/100\n",
      "136/136 [==============================] - 0s 1ms/step - loss: 0.0725 - accuracy: 0.9756 - val_loss: 0.1005 - val_accuracy: 0.9613\n",
      "Epoch 48/100\n",
      "136/136 [==============================] - 0s 1ms/step - loss: 0.0722 - accuracy: 0.9781 - val_loss: 0.1039 - val_accuracy: 0.9594\n",
      "Epoch 49/100\n",
      "136/136 [==============================] - 0s 1ms/step - loss: 0.0709 - accuracy: 0.9774 - val_loss: 0.1009 - val_accuracy: 0.9668\n",
      "Epoch 50/100\n",
      "136/136 [==============================] - 0s 1ms/step - loss: 0.0682 - accuracy: 0.9786 - val_loss: 0.0966 - val_accuracy: 0.9622\n",
      "Epoch 51/100\n",
      "136/136 [==============================] - 0s 1ms/step - loss: 0.0693 - accuracy: 0.9758 - val_loss: 0.0917 - val_accuracy: 0.9760\n",
      "Epoch 52/100\n",
      "136/136 [==============================] - 0s 1ms/step - loss: 0.0659 - accuracy: 0.9769 - val_loss: 0.0929 - val_accuracy: 0.9705\n",
      "Epoch 53/100\n",
      "136/136 [==============================] - 0s 1ms/step - loss: 0.0659 - accuracy: 0.9769 - val_loss: 0.0947 - val_accuracy: 0.9714\n",
      "Epoch 54/100\n",
      "136/136 [==============================] - 0s 1ms/step - loss: 0.0641 - accuracy: 0.9795 - val_loss: 0.0920 - val_accuracy: 0.9733\n",
      "Epoch 55/100\n",
      "136/136 [==============================] - 0s 1ms/step - loss: 0.0641 - accuracy: 0.9804 - val_loss: 0.0897 - val_accuracy: 0.9714\n",
      "Epoch 56/100\n",
      "136/136 [==============================] - 0s 1ms/step - loss: 0.0635 - accuracy: 0.9797 - val_loss: 0.0878 - val_accuracy: 0.9742\n",
      "Epoch 57/100\n",
      "136/136 [==============================] - 0s 1ms/step - loss: 0.0617 - accuracy: 0.9809 - val_loss: 0.0924 - val_accuracy: 0.9668\n",
      "Epoch 58/100\n",
      "136/136 [==============================] - 0s 1ms/step - loss: 0.0613 - accuracy: 0.9776 - val_loss: 0.0882 - val_accuracy: 0.9733\n",
      "Epoch 59/100\n",
      "136/136 [==============================] - 0s 1ms/step - loss: 0.0612 - accuracy: 0.9788 - val_loss: 0.0845 - val_accuracy: 0.9825\n",
      "Epoch 60/100\n",
      "136/136 [==============================] - 0s 1ms/step - loss: 0.0604 - accuracy: 0.9790 - val_loss: 0.0923 - val_accuracy: 0.9668\n",
      "Epoch 61/100\n",
      "136/136 [==============================] - 0s 1ms/step - loss: 0.0576 - accuracy: 0.9802 - val_loss: 0.0903 - val_accuracy: 0.9714\n",
      "Epoch 62/100\n",
      "136/136 [==============================] - 0s 1ms/step - loss: 0.0590 - accuracy: 0.9797 - val_loss: 0.0862 - val_accuracy: 0.9742\n",
      "Epoch 63/100\n",
      "136/136 [==============================] - 0s 1ms/step - loss: 0.0567 - accuracy: 0.9829 - val_loss: 0.0907 - val_accuracy: 0.9751\n",
      "Epoch 64/100\n",
      "136/136 [==============================] - 0s 1ms/step - loss: 0.0569 - accuracy: 0.9832 - val_loss: 0.0844 - val_accuracy: 0.9724\n",
      "Epoch 65/100\n",
      "136/136 [==============================] - 0s 1ms/step - loss: 0.0574 - accuracy: 0.9809 - val_loss: 0.0844 - val_accuracy: 0.9733\n",
      "Epoch 66/100\n",
      "136/136 [==============================] - 0s 1ms/step - loss: 0.0552 - accuracy: 0.9804 - val_loss: 0.0891 - val_accuracy: 0.9705\n",
      "Epoch 67/100\n",
      "136/136 [==============================] - 0s 1ms/step - loss: 0.0541 - accuracy: 0.9811 - val_loss: 0.0823 - val_accuracy: 0.9696\n",
      "Epoch 68/100\n",
      "136/136 [==============================] - 0s 1ms/step - loss: 0.0553 - accuracy: 0.9804 - val_loss: 0.0878 - val_accuracy: 0.9631\n",
      "Epoch 69/100\n",
      "136/136 [==============================] - 0s 1ms/step - loss: 0.0537 - accuracy: 0.9806 - val_loss: 0.0996 - val_accuracy: 0.9622\n",
      "Epoch 70/100\n",
      "136/136 [==============================] - 0s 1ms/step - loss: 0.0519 - accuracy: 0.9822 - val_loss: 0.0868 - val_accuracy: 0.9724\n",
      "Epoch 71/100\n",
      "136/136 [==============================] - 0s 1ms/step - loss: 0.0528 - accuracy: 0.9813 - val_loss: 0.0964 - val_accuracy: 0.9585\n",
      "Epoch 72/100\n",
      "136/136 [==============================] - 0s 1ms/step - loss: 0.0516 - accuracy: 0.9839 - val_loss: 0.0830 - val_accuracy: 0.9696\n",
      "Epoch 73/100\n",
      "136/136 [==============================] - 0s 1ms/step - loss: 0.0497 - accuracy: 0.9827 - val_loss: 0.0927 - val_accuracy: 0.9641\n",
      "Epoch 74/100\n",
      "136/136 [==============================] - 0s 1ms/step - loss: 0.0509 - accuracy: 0.9809 - val_loss: 0.0855 - val_accuracy: 0.9788\n",
      "Epoch 75/100\n",
      "136/136 [==============================] - 0s 1ms/step - loss: 0.0502 - accuracy: 0.9829 - val_loss: 0.0931 - val_accuracy: 0.9622\n",
      "Epoch 76/100\n",
      "136/136 [==============================] - 0s 1ms/step - loss: 0.0504 - accuracy: 0.9820 - val_loss: 0.0833 - val_accuracy: 0.9687\n",
      "Epoch 77/100\n",
      "136/136 [==============================] - 0s 1ms/step - loss: 0.0511 - accuracy: 0.9811 - val_loss: 0.0843 - val_accuracy: 0.9751\n"
     ]
    }
   ],
   "source": [
    "history = model.fit(X_train, y_train, validation_data=(X_test, y_test), epochs=100, callbacks=[early_stopping])"
   ]
  },
  {
   "cell_type": "markdown",
   "id": "b5e40a39-4331-43b6-bcb4-190ef2eab495",
   "metadata": {},
   "source": [
    "### MEMBUAT PREDIKSI"
   ]
  },
  {
   "cell_type": "code",
   "execution_count": 11,
   "id": "36d8763b-aab4-4031-9cb2-2fdef519bc5f",
   "metadata": {},
   "outputs": [
    {
     "name": "stdout",
     "output_type": "stream",
     "text": [
      "34/34 [==============================] - 0s 630us/step\n"
     ]
    }
   ],
   "source": [
    "y_pred = model.predict(X_test)\n",
    "y_pred = (y_pred > 0.5)"
   ]
  },
  {
   "cell_type": "markdown",
   "id": "77ad553a-1ad9-445d-b926-060994ddc703",
   "metadata": {},
   "source": [
    "### KALKULASI METRIKS"
   ]
  },
  {
   "cell_type": "code",
   "execution_count": 12,
   "id": "3bb1d29d-97d4-4777-9096-9d172826592a",
   "metadata": {},
   "outputs": [
    {
     "name": "stdout",
     "output_type": "stream",
     "text": [
      "Accuracy:  0.9751152073732718\n",
      "R2 Score:  0.8848946586720942\n"
     ]
    }
   ],
   "source": [
    "print('Accuracy: ', accuracy_score(y_test, y_pred))\n",
    "print('R2 Score: ', r2_score(y_test, y_pred))"
   ]
  },
  {
   "cell_type": "markdown",
   "id": "5bca7c86-e40c-4015-ad1b-a33993b8fae2",
   "metadata": {},
   "source": [
    "### MEMBUAT PLOT HASIL DARI MODEL"
   ]
  },
  {
   "cell_type": "code",
   "execution_count": 13,
   "id": "6e784539-3526-46f0-802d-27efda02521d",
   "metadata": {},
   "outputs": [
    {
     "data": {
      "image/png": "[encoded data removed]",
      "text/plain": [
       "<Figure size 640x480 with 1 Axes>"
      ]
     },
     "metadata": {},
     "output_type": "display_data"
    }
   ],
   "source": [
    "plt.plot(history.history['accuracy'])\n",
    "plt.plot(history.history['val_accuracy'])\n",
    "plt.title('Akurasi Model')\n",
    "plt.ylabel('Akurasi')\n",
    "plt.xlabel('Epoch')\n",
    "plt.legend(['Train', 'Test'], loc='upper left')\n",
    "plt.show()"
   ]
  },
  {
   "cell_type": "markdown",
   "id": "f9e1fc9d-f2cb-4166-ac84-39ef7d93daf4",
   "metadata": {},
   "source": [
    "Dapat dilihat dari plot di atas, semakin tinggi epoch yang dijalankan maka semakin tinggi pula akurasi yang di dapat"
   ]
  },
  {
   "cell_type": "code",
   "execution_count": 14,
   "id": "9ea168cc-2b8f-465f-a4d7-27464c4231c7",
   "metadata": {},
   "outputs": [
    {
     "data": {
      "image/png": "[encoded data removed]",
      "text/plain": [
       "<Figure size 640x480 with 1 Axes>"
      ]
     },
     "metadata": {},
     "output_type": "display_data"
    }
   ],
   "source": [
    "plt.plot(history.history['loss'])\n",
    "plt.plot(history.history['val_loss'])\n",
    "plt.title('Loss Model')\n",
    "plt.ylabel('Loss')\n",
    "plt.xlabel('Epoch')\n",
    "plt.legend(['Train', 'Test'], loc='upper left')\n",
    "plt.show()"
   ]
  },
  {
   "cell_type": "markdown",
   "id": "f2447e26-49fe-4955-8393-4871cda49fec",
   "metadata": {},
   "source": [
    "Dari plot di atas, dapat disimpulkan semakin banyak epoch yang berjalankan semakin berkurang loss yang terjadi"
   ]
  }
 ],
 "metadata": {
  "kernelspec": {
   "display_name": "Python 3 (ipykernel)",
   "language": "python",
   "name": "python3"
  },
  "language_info": {
   "codemirror_mode": {
    "name": "ipython",
    "version": 3
   },
   "file_extension": ".py",
   "mimetype": "text/x-python",
   "name": "python",
   "nbconvert_exporter": "python",
   "pygments_lexer": "ipython3",
   "version": "3.10.7"
  }
 },
 "nbformat": 4,
 "nbformat_minor": 5
}
