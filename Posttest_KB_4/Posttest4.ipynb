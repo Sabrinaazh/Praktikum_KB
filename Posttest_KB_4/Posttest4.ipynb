{
 "cells": [
  {
   "cell_type": "markdown",
   "id": "ca31c96c-8fef-4f72-a8c2-7871c6881407",
   "metadata": {},
   "source": [
    "# Sabrina Nur Az-zahra (2109106111) Posttest 4"
   ]
  },
  {
   "cell_type": "markdown",
   "id": "4d9784ba-4115-4e37-b728-fbe5da1867fe",
   "metadata": {},
   "source": [
    "## Import Library"
   ]
  },
  {
   "cell_type": "code",
   "execution_count": 1,
   "id": "be881183-733f-4657-91bc-72970aecc50c",
   "metadata": {},
   "outputs": [
    {
     "name": "stdout",
     "output_type": "stream",
     "text": [
      "<class 'pandas.core.frame.DataFrame'>\n",
      "RangeIndex: 7668 entries, 0 to 7667\n",
      "Data columns (total 15 columns):\n",
      " #   Column    Non-Null Count  Dtype  \n",
      "---  ------    --------------  -----  \n",
      " 0   name      7668 non-null   object \n",
      " 1   rating    7591 non-null   object \n",
      " 2   genre     7668 non-null   object \n",
      " 3   year      7668 non-null   int64  \n",
      " 4   released  7666 non-null   object \n",
      " 5   score     7665 non-null   float64\n",
      " 6   votes     7665 non-null   float64\n",
      " 7   director  7668 non-null   object \n",
      " 8   writer    7665 non-null   object \n",
      " 9   star      7667 non-null   object \n",
      " 10  country   7665 non-null   object \n",
      " 11  budget    5497 non-null   float64\n",
      " 12  gross     7479 non-null   float64\n",
      " 13  company   7651 non-null   object \n",
      " 14  runtime   7664 non-null   float64\n",
      "dtypes: float64(5), int64(1), object(9)\n",
      "memory usage: 898.7+ KB\n"
     ]
    }
   ],
   "source": [
    "import numpy as np\n",
    "import pandas as pd\n",
    "from sklearn.preprocessing import MinMaxScaler, StandardScaler, OneHotEncoder\n",
    "from sklearn.model_selection import train_test_split\n",
    "from sklearn.impute import SimpleImputer\n",
    "\n",
    "data = pd.read_csv(\"movies.csv\")\n",
    "\n",
    "data.info()"
   ]
  },
  {
   "cell_type": "markdown",
   "id": "bbe16d8d-6721-457c-8ab5-ba3acbbd0cee",
   "metadata": {},
   "source": [
    "## Membagi Dataset menjadi trainset dan testset"
   ]
  },
  {
   "cell_type": "code",
   "execution_count": 2,
   "id": "b7b0dfb8-b9b7-42ba-a45f-1bb86a43f64f",
   "metadata": {},
   "outputs": [
    {
     "name": "stdout",
     "output_type": "stream",
     "text": [
      "Dimensi X_train (5367, 14)\n",
      "Dimensi X_test (2301, 14)\n",
      "Dimensi y_train (5367,)\n",
      "Dimensi y_test (2301,)\n"
     ]
    }
   ],
   "source": [
    "X = data.iloc[:, : -1]\n",
    "y = data.iloc[:, -1]\n",
    "\n",
    "X_train, X_test, y_train, y_test = train_test_split(X, y, test_size=0.3)\n",
    "\n",
    "print(\"Dimensi X_train\", X_train.shape)\n",
    "print(\"Dimensi X_test\", X_test.shape)\n",
    "print(\"Dimensi y_train\", y_train.shape)\n",
    "print(\"Dimensi y_test\", y_test.shape)"
   ]
  },
  {
   "cell_type": "markdown",
   "id": "e6df452e-38ee-4949-b71f-c60456ba2ed8",
   "metadata": {},
   "source": [
    "## Melakukan normalisasi data dengan menggunakan MinMaxScaler"
   ]
  },
  {
   "cell_type": "code",
   "execution_count": 3,
   "id": "95befbc9-bec5-4e2d-bf65-b6d55c827a13",
   "metadata": {},
   "outputs": [
    {
     "name": "stdout",
     "output_type": "stream",
     "text": [
      "\n",
      "Data Sebelum dan Sesudah dilakukan normalisasi : \n",
      "\n"
     ]
    },
    {
     "data": {
      "text/html": [
       "<div>\n",
       "<style scoped>\n",
       "    .dataframe tbody tr th:only-of-type {\n",
       "        vertical-align: middle;\n",
       "    }\n",
       "\n",
       "    .dataframe tbody tr th {\n",
       "        vertical-align: top;\n",
       "    }\n",
       "\n",
       "    .dataframe thead th {\n",
       "        text-align: right;\n",
       "    }\n",
       "</style>\n",
       "<table border=\"1\" class=\"dataframe\">\n",
       "  <thead>\n",
       "    <tr style=\"text-align: right;\">\n",
       "      <th></th>\n",
       "      <th>score</th>\n",
       "      <th>score_Normalization</th>\n",
       "    </tr>\n",
       "  </thead>\n",
       "  <tbody>\n",
       "    <tr>\n",
       "      <th>0</th>\n",
       "      <td>8.4</td>\n",
       "      <td>0.878378</td>\n",
       "    </tr>\n",
       "    <tr>\n",
       "      <th>1</th>\n",
       "      <td>5.8</td>\n",
       "      <td>0.527027</td>\n",
       "    </tr>\n",
       "    <tr>\n",
       "      <th>2</th>\n",
       "      <td>8.7</td>\n",
       "      <td>0.918919</td>\n",
       "    </tr>\n",
       "    <tr>\n",
       "      <th>3</th>\n",
       "      <td>7.7</td>\n",
       "      <td>0.783784</td>\n",
       "    </tr>\n",
       "    <tr>\n",
       "      <th>4</th>\n",
       "      <td>7.3</td>\n",
       "      <td>0.729730</td>\n",
       "    </tr>\n",
       "    <tr>\n",
       "      <th>5</th>\n",
       "      <td>6.4</td>\n",
       "      <td>0.608108</td>\n",
       "    </tr>\n",
       "    <tr>\n",
       "      <th>6</th>\n",
       "      <td>7.9</td>\n",
       "      <td>0.810811</td>\n",
       "    </tr>\n",
       "    <tr>\n",
       "      <th>7</th>\n",
       "      <td>8.2</td>\n",
       "      <td>0.851351</td>\n",
       "    </tr>\n",
       "    <tr>\n",
       "      <th>8</th>\n",
       "      <td>6.8</td>\n",
       "      <td>0.662162</td>\n",
       "    </tr>\n",
       "    <tr>\n",
       "      <th>9</th>\n",
       "      <td>7.0</td>\n",
       "      <td>0.689189</td>\n",
       "    </tr>\n",
       "  </tbody>\n",
       "</table>\n",
       "</div>"
      ],
      "text/plain": [
       "   score  score_Normalization\n",
       "0    8.4             0.878378\n",
       "1    5.8             0.527027\n",
       "2    8.7             0.918919\n",
       "3    7.7             0.783784\n",
       "4    7.3             0.729730\n",
       "5    6.4             0.608108\n",
       "6    7.9             0.810811\n",
       "7    8.2             0.851351\n",
       "8    6.8             0.662162\n",
       "9    7.0             0.689189"
      ]
     },
     "execution_count": 3,
     "metadata": {},
     "output_type": "execute_result"
    }
   ],
   "source": [
    "min_max = MinMaxScaler()\n",
    "\n",
    "# Copy Data\n",
    "copy1 = data\n",
    "dataCopy_normalization = copy1[[\"score\"]]\n",
    "\n",
    "normalization = min_max.fit_transform(dataCopy_normalization[[\"score\"]])\n",
    "\n",
    "data_normalization = pd.DataFrame(normalization)\n",
    "data_normalization.columns =[\"score_Normalization\"]\n",
    "\n",
    "dataCopy_normalization = dataCopy_normalization.join(data_normalization[\"score_Normalization\"]).reset_index()\n",
    "dataCopy_normalization = dataCopy_normalization.drop(\"index\", axis=1)\n",
    "\n",
    "print()\n",
    "print(\"Data Sebelum dan Sesudah dilakukan normalisasi : \\n\")\n",
    "dataCopy_normalization.head(10)"
   ]
  },
  {
   "cell_type": "markdown",
   "id": "1a6df8e2-6d6d-4bc4-8ea9-37a399add986",
   "metadata": {},
   "source": [
    "## Melakukan Standarisasi Data"
   ]
  },
  {
   "cell_type": "code",
   "execution_count": 4,
   "id": "5c0b6da3-c52e-4109-ba8b-76855d2efa15",
   "metadata": {},
   "outputs": [
    {
     "name": "stdout",
     "output_type": "stream",
     "text": [
      "Data Sebelum Scaling : \n"
     ]
    },
    {
     "data": {
      "text/html": [
       "<div>\n",
       "<style scoped>\n",
       "    .dataframe tbody tr th:only-of-type {\n",
       "        vertical-align: middle;\n",
       "    }\n",
       "\n",
       "    .dataframe tbody tr th {\n",
       "        vertical-align: top;\n",
       "    }\n",
       "\n",
       "    .dataframe thead th {\n",
       "        text-align: right;\n",
       "    }\n",
       "</style>\n",
       "<table border=\"1\" class=\"dataframe\">\n",
       "  <thead>\n",
       "    <tr style=\"text-align: right;\">\n",
       "      <th></th>\n",
       "      <th>year</th>\n",
       "      <th>score</th>\n",
       "      <th>votes</th>\n",
       "      <th>budget</th>\n",
       "      <th>gross</th>\n",
       "      <th>runtime</th>\n",
       "    </tr>\n",
       "  </thead>\n",
       "  <tbody>\n",
       "    <tr>\n",
       "      <th>0</th>\n",
       "      <td>1980</td>\n",
       "      <td>8.4</td>\n",
       "      <td>927000.0</td>\n",
       "      <td>19000000.0</td>\n",
       "      <td>46998772.0</td>\n",
       "      <td>146.0</td>\n",
       "    </tr>\n",
       "    <tr>\n",
       "      <th>1</th>\n",
       "      <td>1980</td>\n",
       "      <td>5.8</td>\n",
       "      <td>65000.0</td>\n",
       "      <td>4500000.0</td>\n",
       "      <td>58853106.0</td>\n",
       "      <td>104.0</td>\n",
       "    </tr>\n",
       "    <tr>\n",
       "      <th>2</th>\n",
       "      <td>1980</td>\n",
       "      <td>8.7</td>\n",
       "      <td>1200000.0</td>\n",
       "      <td>18000000.0</td>\n",
       "      <td>538375067.0</td>\n",
       "      <td>124.0</td>\n",
       "    </tr>\n",
       "    <tr>\n",
       "      <th>3</th>\n",
       "      <td>1980</td>\n",
       "      <td>7.7</td>\n",
       "      <td>221000.0</td>\n",
       "      <td>3500000.0</td>\n",
       "      <td>83453539.0</td>\n",
       "      <td>88.0</td>\n",
       "    </tr>\n",
       "    <tr>\n",
       "      <th>4</th>\n",
       "      <td>1980</td>\n",
       "      <td>7.3</td>\n",
       "      <td>108000.0</td>\n",
       "      <td>6000000.0</td>\n",
       "      <td>39846344.0</td>\n",
       "      <td>98.0</td>\n",
       "    </tr>\n",
       "    <tr>\n",
       "      <th>5</th>\n",
       "      <td>1980</td>\n",
       "      <td>6.4</td>\n",
       "      <td>123000.0</td>\n",
       "      <td>550000.0</td>\n",
       "      <td>39754601.0</td>\n",
       "      <td>95.0</td>\n",
       "    </tr>\n",
       "    <tr>\n",
       "      <th>6</th>\n",
       "      <td>1980</td>\n",
       "      <td>7.9</td>\n",
       "      <td>188000.0</td>\n",
       "      <td>27000000.0</td>\n",
       "      <td>115229890.0</td>\n",
       "      <td>133.0</td>\n",
       "    </tr>\n",
       "    <tr>\n",
       "      <th>7</th>\n",
       "      <td>1980</td>\n",
       "      <td>8.2</td>\n",
       "      <td>330000.0</td>\n",
       "      <td>18000000.0</td>\n",
       "      <td>23402427.0</td>\n",
       "      <td>129.0</td>\n",
       "    </tr>\n",
       "    <tr>\n",
       "      <th>8</th>\n",
       "      <td>1980</td>\n",
       "      <td>6.8</td>\n",
       "      <td>101000.0</td>\n",
       "      <td>54000000.0</td>\n",
       "      <td>108185706.0</td>\n",
       "      <td>127.0</td>\n",
       "    </tr>\n",
       "    <tr>\n",
       "      <th>9</th>\n",
       "      <td>1980</td>\n",
       "      <td>7.0</td>\n",
       "      <td>10000.0</td>\n",
       "      <td>10000000.0</td>\n",
       "      <td>15795189.0</td>\n",
       "      <td>100.0</td>\n",
       "    </tr>\n",
       "  </tbody>\n",
       "</table>\n",
       "</div>"
      ],
      "text/plain": [
       "   year  score      votes      budget        gross  runtime\n",
       "0  1980    8.4   927000.0  19000000.0   46998772.0    146.0\n",
       "1  1980    5.8    65000.0   4500000.0   58853106.0    104.0\n",
       "2  1980    8.7  1200000.0  18000000.0  538375067.0    124.0\n",
       "3  1980    7.7   221000.0   3500000.0   83453539.0     88.0\n",
       "4  1980    7.3   108000.0   6000000.0   39846344.0     98.0\n",
       "5  1980    6.4   123000.0    550000.0   39754601.0     95.0\n",
       "6  1980    7.9   188000.0  27000000.0  115229890.0    133.0\n",
       "7  1980    8.2   330000.0  18000000.0   23402427.0    129.0\n",
       "8  1980    6.8   101000.0  54000000.0  108185706.0    127.0\n",
       "9  1980    7.0    10000.0  10000000.0   15795189.0    100.0"
      ]
     },
     "execution_count": 4,
     "metadata": {},
     "output_type": "execute_result"
    }
   ],
   "source": [
    "ssc = StandardScaler()\n",
    "\n",
    "# Copy Data\n",
    "copy2 = data\n",
    "dataCopy_standarization = copy2.select_dtypes(include='number')\n",
    "\n",
    "standarization = ssc.fit_transform(dataCopy_standarization)\n",
    "\n",
    "data_standarization = pd.DataFrame(standarization)\n",
    "data_standarization.columns = [\"year\", \"score\", \"votes\", \"budget\", \"gross\", \"runtime\"]\n",
    "\n",
    "print(\"Data Sebelum Scaling : \")\n",
    "dataCopy_standarization.head(10)"
   ]
  },
  {
   "cell_type": "code",
   "execution_count": 5,
   "id": "8d296d2a-d3f6-485b-af15-9a6b6e8ea5f9",
   "metadata": {},
   "outputs": [
    {
     "name": "stdout",
     "output_type": "stream",
     "text": [
      "Nilai standar deviasi : \n"
     ]
    },
    {
     "name": "stderr",
     "output_type": "stream",
     "text": [
      "C:\\Users\\Lenovo - GK\\AppData\\Local\\Programs\\Python\\Python310\\lib\\site-packages\\numpy\\core\\fromnumeric.py:3643: FutureWarning: The behavior of DataFrame.std with axis=None is deprecated, in a future version this will reduce over both axes and return a scalar. To retain the old behavior, pass axis=0 (or do not pass axis)\n",
      "  return std(axis=axis, dtype=dtype, out=out, ddof=ddof, **kwargs)\n"
     ]
    },
    {
     "data": {
      "text/plain": [
       "year       1.115278e+01\n",
       "score      9.687784e-01\n",
       "votes      1.633131e+05\n",
       "budget     4.145353e+07\n",
       "gross      1.657140e+08\n",
       "runtime    1.858004e+01\n",
       "dtype: float64"
      ]
     },
     "execution_count": 5,
     "metadata": {},
     "output_type": "execute_result"
    }
   ],
   "source": [
    "print(\"Nilai standar deviasi : \")\n",
    "np.std(dataCopy_standarization)"
   ]
  },
  {
   "cell_type": "code",
   "execution_count": 6,
   "id": "94d210f7-7444-4c42-8953-62eefcf48672",
   "metadata": {},
   "outputs": [
    {
     "name": "stdout",
     "output_type": "stream",
     "text": [
      "Data sesudah Scaling : \n"
     ]
    },
    {
     "data": {
      "text/html": [
       "<div>\n",
       "<style scoped>\n",
       "    .dataframe tbody tr th:only-of-type {\n",
       "        vertical-align: middle;\n",
       "    }\n",
       "\n",
       "    .dataframe tbody tr th {\n",
       "        vertical-align: top;\n",
       "    }\n",
       "\n",
       "    .dataframe thead th {\n",
       "        text-align: right;\n",
       "    }\n",
       "</style>\n",
       "<table border=\"1\" class=\"dataframe\">\n",
       "  <thead>\n",
       "    <tr style=\"text-align: right;\">\n",
       "      <th></th>\n",
       "      <th>year</th>\n",
       "      <th>score</th>\n",
       "      <th>votes</th>\n",
       "      <th>budget</th>\n",
       "      <th>gross</th>\n",
       "      <th>runtime</th>\n",
       "    </tr>\n",
       "  </thead>\n",
       "  <tbody>\n",
       "    <tr>\n",
       "      <th>0</th>\n",
       "      <td>-1.829629</td>\n",
       "      <td>2.074354</td>\n",
       "      <td>5.136706</td>\n",
       "      <td>-0.400204</td>\n",
       "      <td>-0.190097</td>\n",
       "      <td>2.084947</td>\n",
       "    </tr>\n",
       "    <tr>\n",
       "      <th>1</th>\n",
       "      <td>-1.829629</td>\n",
       "      <td>-0.609439</td>\n",
       "      <td>-0.141498</td>\n",
       "      <td>-0.749994</td>\n",
       "      <td>-0.118562</td>\n",
       "      <td>-0.175544</td>\n",
       "    </tr>\n",
       "    <tr>\n",
       "      <th>2</th>\n",
       "      <td>-1.829629</td>\n",
       "      <td>2.384022</td>\n",
       "      <td>6.808342</td>\n",
       "      <td>-0.424328</td>\n",
       "      <td>2.775109</td>\n",
       "      <td>0.900880</td>\n",
       "    </tr>\n",
       "    <tr>\n",
       "      <th>3</th>\n",
       "      <td>-1.829629</td>\n",
       "      <td>1.351794</td>\n",
       "      <td>0.813722</td>\n",
       "      <td>-0.774117</td>\n",
       "      <td>0.029889</td>\n",
       "      <td>-1.036683</td>\n",
       "    </tr>\n",
       "    <tr>\n",
       "      <th>4</th>\n",
       "      <td>-1.829629</td>\n",
       "      <td>0.938903</td>\n",
       "      <td>0.121800</td>\n",
       "      <td>-0.713808</td>\n",
       "      <td>-0.233258</td>\n",
       "      <td>-0.498471</td>\n",
       "    </tr>\n",
       "    <tr>\n",
       "      <th>5</th>\n",
       "      <td>-1.829629</td>\n",
       "      <td>0.009898</td>\n",
       "      <td>0.213648</td>\n",
       "      <td>-0.845281</td>\n",
       "      <td>-0.233812</td>\n",
       "      <td>-0.659935</td>\n",
       "    </tr>\n",
       "    <tr>\n",
       "      <th>6</th>\n",
       "      <td>-1.829629</td>\n",
       "      <td>1.558240</td>\n",
       "      <td>0.611656</td>\n",
       "      <td>-0.207217</td>\n",
       "      <td>0.221643</td>\n",
       "      <td>1.385271</td>\n",
       "    </tr>\n",
       "    <tr>\n",
       "      <th>7</th>\n",
       "      <td>-1.829629</td>\n",
       "      <td>1.867908</td>\n",
       "      <td>1.481152</td>\n",
       "      <td>-0.424328</td>\n",
       "      <td>-0.332489</td>\n",
       "      <td>1.169986</td>\n",
       "    </tr>\n",
       "    <tr>\n",
       "      <th>8</th>\n",
       "      <td>-1.829629</td>\n",
       "      <td>0.422789</td>\n",
       "      <td>0.078937</td>\n",
       "      <td>0.444115</td>\n",
       "      <td>0.179135</td>\n",
       "      <td>1.062344</td>\n",
       "    </tr>\n",
       "    <tr>\n",
       "      <th>9</th>\n",
       "      <td>-1.829629</td>\n",
       "      <td>0.629235</td>\n",
       "      <td>-0.478275</td>\n",
       "      <td>-0.617315</td>\n",
       "      <td>-0.378395</td>\n",
       "      <td>-0.390829</td>\n",
       "    </tr>\n",
       "  </tbody>\n",
       "</table>\n",
       "</div>"
      ],
      "text/plain": [
       "       year     score     votes    budget     gross   runtime\n",
       "0 -1.829629  2.074354  5.136706 -0.400204 -0.190097  2.084947\n",
       "1 -1.829629 -0.609439 -0.141498 -0.749994 -0.118562 -0.175544\n",
       "2 -1.829629  2.384022  6.808342 -0.424328  2.775109  0.900880\n",
       "3 -1.829629  1.351794  0.813722 -0.774117  0.029889 -1.036683\n",
       "4 -1.829629  0.938903  0.121800 -0.713808 -0.233258 -0.498471\n",
       "5 -1.829629  0.009898  0.213648 -0.845281 -0.233812 -0.659935\n",
       "6 -1.829629  1.558240  0.611656 -0.207217  0.221643  1.385271\n",
       "7 -1.829629  1.867908  1.481152 -0.424328 -0.332489  1.169986\n",
       "8 -1.829629  0.422789  0.078937  0.444115  0.179135  1.062344\n",
       "9 -1.829629  0.629235 -0.478275 -0.617315 -0.378395 -0.390829"
      ]
     },
     "execution_count": 6,
     "metadata": {},
     "output_type": "execute_result"
    }
   ],
   "source": [
    "print(\"Data sesudah Scaling : \")\n",
    "data_standarization.head(10)"
   ]
  },
  {
   "cell_type": "code",
   "execution_count": 7,
   "id": "6580c587-a67a-400e-b7c5-6106553da414",
   "metadata": {},
   "outputs": [
    {
     "name": "stdout",
     "output_type": "stream",
     "text": [
      "Nilai standar deviasi : \n"
     ]
    },
    {
     "name": "stderr",
     "output_type": "stream",
     "text": [
      "C:\\Users\\Lenovo - GK\\AppData\\Local\\Programs\\Python\\Python310\\lib\\site-packages\\numpy\\core\\fromnumeric.py:3643: FutureWarning: The behavior of DataFrame.std with axis=None is deprecated, in a future version this will reduce over both axes and return a scalar. To retain the old behavior, pass axis=0 (or do not pass axis)\n",
      "  return std(axis=axis, dtype=dtype, out=out, ddof=ddof, **kwargs)\n"
     ]
    },
    {
     "data": {
      "text/plain": [
       "year       1.0\n",
       "score      1.0\n",
       "votes      1.0\n",
       "budget     1.0\n",
       "gross      1.0\n",
       "runtime    1.0\n",
       "dtype: float64"
      ]
     },
     "execution_count": 7,
     "metadata": {},
     "output_type": "execute_result"
    }
   ],
   "source": [
    "print(\"Nilai standar deviasi : \")\n",
    "np.std(data_standarization)"
   ]
  },
  {
   "cell_type": "markdown",
   "id": "267f7119-ac18-4acd-bf03-2a5ffd5e8114",
   "metadata": {},
   "source": [
    "## Data Cleaning Nilai Null"
   ]
  },
  {
   "cell_type": "code",
   "execution_count": 8,
   "id": "aea0160e-e868-4de7-90d8-bc24a6454775",
   "metadata": {},
   "outputs": [
    {
     "data": {
      "text/plain": [
       "name           0\n",
       "rating        77\n",
       "genre          0\n",
       "year           0\n",
       "released       2\n",
       "score          3\n",
       "votes          3\n",
       "director       0\n",
       "writer         3\n",
       "star           1\n",
       "country        3\n",
       "budget      2171\n",
       "gross        189\n",
       "company       17\n",
       "runtime        4\n",
       "dtype: int64"
      ]
     },
     "execution_count": 8,
     "metadata": {},
     "output_type": "execute_result"
    }
   ],
   "source": [
    "data.isna().sum()"
   ]
  },
  {
   "cell_type": "code",
   "execution_count": 9,
   "id": "25732630-8770-4437-acd9-7933291cb4bf",
   "metadata": {},
   "outputs": [
    {
     "name": "stderr",
     "output_type": "stream",
     "text": [
      "C:\\Users\\Lenovo - GK\\AppData\\Local\\Temp\\ipykernel_19000\\4082308529.py:1: SettingWithCopyWarning: \n",
      "A value is trying to be set on a copy of a slice from a DataFrame\n",
      "\n",
      "See the caveats in the documentation: https://pandas.pydata.org/pandas-docs/stable/user_guide/indexing.html#returning-a-view-versus-a-copy\n",
      "  data.year[[1,10,20,30,40,50,60,70,80,90,100]]=None;\n",
      "C:\\Users\\Lenovo - GK\\AppData\\Local\\Temp\\ipykernel_19000\\4082308529.py:2: SettingWithCopyWarning: \n",
      "A value is trying to be set on a copy of a slice from a DataFrame\n",
      "\n",
      "See the caveats in the documentation: https://pandas.pydata.org/pandas-docs/stable/user_guide/indexing.html#returning-a-view-versus-a-copy\n",
      "  data.genre[[1,10,20,30,40,50,60,70,80,90,100]]=None;\n"
     ]
    },
    {
     "data": {
      "text/html": [
       "<div>\n",
       "<style scoped>\n",
       "    .dataframe tbody tr th:only-of-type {\n",
       "        vertical-align: middle;\n",
       "    }\n",
       "\n",
       "    .dataframe tbody tr th {\n",
       "        vertical-align: top;\n",
       "    }\n",
       "\n",
       "    .dataframe thead th {\n",
       "        text-align: right;\n",
       "    }\n",
       "</style>\n",
       "<table border=\"1\" class=\"dataframe\">\n",
       "  <thead>\n",
       "    <tr style=\"text-align: right;\">\n",
       "      <th></th>\n",
       "      <th>name</th>\n",
       "      <th>rating</th>\n",
       "      <th>genre</th>\n",
       "      <th>year</th>\n",
       "      <th>released</th>\n",
       "      <th>score</th>\n",
       "      <th>votes</th>\n",
       "      <th>director</th>\n",
       "      <th>writer</th>\n",
       "      <th>star</th>\n",
       "      <th>country</th>\n",
       "      <th>budget</th>\n",
       "      <th>gross</th>\n",
       "      <th>company</th>\n",
       "      <th>runtime</th>\n",
       "    </tr>\n",
       "  </thead>\n",
       "  <tbody>\n",
       "    <tr>\n",
       "      <th>1</th>\n",
       "      <td>The Blue Lagoon</td>\n",
       "      <td>R</td>\n",
       "      <td>None</td>\n",
       "      <td>NaN</td>\n",
       "      <td>July 2, 1980 (United States)</td>\n",
       "      <td>5.8</td>\n",
       "      <td>65000.0</td>\n",
       "      <td>Randal Kleiser</td>\n",
       "      <td>Henry De Vere Stacpoole</td>\n",
       "      <td>Brooke Shields</td>\n",
       "      <td>United States</td>\n",
       "      <td>4500000.0</td>\n",
       "      <td>58853106.0</td>\n",
       "      <td>Columbia Pictures</td>\n",
       "      <td>104.0</td>\n",
       "    </tr>\n",
       "    <tr>\n",
       "      <th>10</th>\n",
       "      <td>Any Which Way You Can</td>\n",
       "      <td>PG</td>\n",
       "      <td>None</td>\n",
       "      <td>NaN</td>\n",
       "      <td>December 17, 1980 (United States)</td>\n",
       "      <td>6.1</td>\n",
       "      <td>18000.0</td>\n",
       "      <td>Buddy Van Horn</td>\n",
       "      <td>Stanford Sherman</td>\n",
       "      <td>Clint Eastwood</td>\n",
       "      <td>United States</td>\n",
       "      <td>15000000.0</td>\n",
       "      <td>70687344.0</td>\n",
       "      <td>The Malpaso Company</td>\n",
       "      <td>116.0</td>\n",
       "    </tr>\n",
       "    <tr>\n",
       "      <th>16</th>\n",
       "      <td>Fame</td>\n",
       "      <td>R</td>\n",
       "      <td>Drama</td>\n",
       "      <td>1980.0</td>\n",
       "      <td>May 16, 1980 (United States)</td>\n",
       "      <td>6.6</td>\n",
       "      <td>21000.0</td>\n",
       "      <td>Alan Parker</td>\n",
       "      <td>Christopher Gore</td>\n",
       "      <td>Eddie Barth</td>\n",
       "      <td>United States</td>\n",
       "      <td>NaN</td>\n",
       "      <td>21202829.0</td>\n",
       "      <td>Metro-Goldwyn-Mayer (MGM)</td>\n",
       "      <td>134.0</td>\n",
       "    </tr>\n",
       "    <tr>\n",
       "      <th>19</th>\n",
       "      <td>Stir Crazy</td>\n",
       "      <td>R</td>\n",
       "      <td>Comedy</td>\n",
       "      <td>1980.0</td>\n",
       "      <td>December 12, 1980 (United States)</td>\n",
       "      <td>6.8</td>\n",
       "      <td>26000.0</td>\n",
       "      <td>Sidney Poitier</td>\n",
       "      <td>Bruce Jay Friedman</td>\n",
       "      <td>Gene Wilder</td>\n",
       "      <td>United States</td>\n",
       "      <td>NaN</td>\n",
       "      <td>101300000.0</td>\n",
       "      <td>Columbia Pictures</td>\n",
       "      <td>111.0</td>\n",
       "    </tr>\n",
       "    <tr>\n",
       "      <th>20</th>\n",
       "      <td>Cruising</td>\n",
       "      <td>R</td>\n",
       "      <td>None</td>\n",
       "      <td>NaN</td>\n",
       "      <td>February 15, 1980 (United States)</td>\n",
       "      <td>6.5</td>\n",
       "      <td>20000.0</td>\n",
       "      <td>William Friedkin</td>\n",
       "      <td>William Friedkin</td>\n",
       "      <td>Al Pacino</td>\n",
       "      <td>West Germany</td>\n",
       "      <td>11000000.0</td>\n",
       "      <td>19814523.0</td>\n",
       "      <td>Lorimar Film Entertainment</td>\n",
       "      <td>102.0</td>\n",
       "    </tr>\n",
       "    <tr>\n",
       "      <th>...</th>\n",
       "      <td>...</td>\n",
       "      <td>...</td>\n",
       "      <td>...</td>\n",
       "      <td>...</td>\n",
       "      <td>...</td>\n",
       "      <td>...</td>\n",
       "      <td>...</td>\n",
       "      <td>...</td>\n",
       "      <td>...</td>\n",
       "      <td>...</td>\n",
       "      <td>...</td>\n",
       "      <td>...</td>\n",
       "      <td>...</td>\n",
       "      <td>...</td>\n",
       "      <td>...</td>\n",
       "    </tr>\n",
       "    <tr>\n",
       "      <th>7663</th>\n",
       "      <td>More to Life</td>\n",
       "      <td>NaN</td>\n",
       "      <td>Drama</td>\n",
       "      <td>2020.0</td>\n",
       "      <td>October 23, 2020 (United States)</td>\n",
       "      <td>3.1</td>\n",
       "      <td>18.0</td>\n",
       "      <td>Joseph Ebanks</td>\n",
       "      <td>Joseph Ebanks</td>\n",
       "      <td>Shannon Bond</td>\n",
       "      <td>United States</td>\n",
       "      <td>7000.0</td>\n",
       "      <td>NaN</td>\n",
       "      <td>NaN</td>\n",
       "      <td>90.0</td>\n",
       "    </tr>\n",
       "    <tr>\n",
       "      <th>7664</th>\n",
       "      <td>Dream Round</td>\n",
       "      <td>NaN</td>\n",
       "      <td>Comedy</td>\n",
       "      <td>2020.0</td>\n",
       "      <td>February 7, 2020 (United States)</td>\n",
       "      <td>4.7</td>\n",
       "      <td>36.0</td>\n",
       "      <td>Dusty Dukatz</td>\n",
       "      <td>Lisa Huston</td>\n",
       "      <td>Michael Saquella</td>\n",
       "      <td>United States</td>\n",
       "      <td>NaN</td>\n",
       "      <td>NaN</td>\n",
       "      <td>Cactus Blue Entertainment</td>\n",
       "      <td>90.0</td>\n",
       "    </tr>\n",
       "    <tr>\n",
       "      <th>7665</th>\n",
       "      <td>Saving Mbango</td>\n",
       "      <td>NaN</td>\n",
       "      <td>Drama</td>\n",
       "      <td>2020.0</td>\n",
       "      <td>April 27, 2020 (Cameroon)</td>\n",
       "      <td>5.7</td>\n",
       "      <td>29.0</td>\n",
       "      <td>Nkanya Nkwai</td>\n",
       "      <td>Lynno Lovert</td>\n",
       "      <td>Onyama Laura</td>\n",
       "      <td>United States</td>\n",
       "      <td>58750.0</td>\n",
       "      <td>NaN</td>\n",
       "      <td>Embi Productions</td>\n",
       "      <td>NaN</td>\n",
       "    </tr>\n",
       "    <tr>\n",
       "      <th>7666</th>\n",
       "      <td>It's Just Us</td>\n",
       "      <td>NaN</td>\n",
       "      <td>Drama</td>\n",
       "      <td>2020.0</td>\n",
       "      <td>October 1, 2020 (United States)</td>\n",
       "      <td>NaN</td>\n",
       "      <td>NaN</td>\n",
       "      <td>James Randall</td>\n",
       "      <td>James Randall</td>\n",
       "      <td>Christina Roz</td>\n",
       "      <td>United States</td>\n",
       "      <td>15000.0</td>\n",
       "      <td>NaN</td>\n",
       "      <td>NaN</td>\n",
       "      <td>120.0</td>\n",
       "    </tr>\n",
       "    <tr>\n",
       "      <th>7667</th>\n",
       "      <td>Tee em el</td>\n",
       "      <td>NaN</td>\n",
       "      <td>Horror</td>\n",
       "      <td>2020.0</td>\n",
       "      <td>August 19, 2020 (United States)</td>\n",
       "      <td>5.7</td>\n",
       "      <td>7.0</td>\n",
       "      <td>Pereko Mosia</td>\n",
       "      <td>Pereko Mosia</td>\n",
       "      <td>Siyabonga Mabaso</td>\n",
       "      <td>South Africa</td>\n",
       "      <td>NaN</td>\n",
       "      <td>NaN</td>\n",
       "      <td>PK 65 Films</td>\n",
       "      <td>102.0</td>\n",
       "    </tr>\n",
       "  </tbody>\n",
       "</table>\n",
       "<p>2253 rows × 15 columns</p>\n",
       "</div>"
      ],
      "text/plain": [
       "                       name rating   genre    year  \\\n",
       "1           The Blue Lagoon      R    None     NaN   \n",
       "10    Any Which Way You Can     PG    None     NaN   \n",
       "16                     Fame      R   Drama  1980.0   \n",
       "19               Stir Crazy      R  Comedy  1980.0   \n",
       "20                 Cruising      R    None     NaN   \n",
       "...                     ...    ...     ...     ...   \n",
       "7663           More to Life    NaN   Drama  2020.0   \n",
       "7664            Dream Round    NaN  Comedy  2020.0   \n",
       "7665          Saving Mbango    NaN   Drama  2020.0   \n",
       "7666           It's Just Us    NaN   Drama  2020.0   \n",
       "7667              Tee em el    NaN  Horror  2020.0   \n",
       "\n",
       "                               released  score    votes          director  \\\n",
       "1          July 2, 1980 (United States)    5.8  65000.0    Randal Kleiser   \n",
       "10    December 17, 1980 (United States)    6.1  18000.0    Buddy Van Horn   \n",
       "16         May 16, 1980 (United States)    6.6  21000.0       Alan Parker   \n",
       "19    December 12, 1980 (United States)    6.8  26000.0    Sidney Poitier   \n",
       "20    February 15, 1980 (United States)    6.5  20000.0  William Friedkin   \n",
       "...                                 ...    ...      ...               ...   \n",
       "7663   October 23, 2020 (United States)    3.1     18.0     Joseph Ebanks   \n",
       "7664   February 7, 2020 (United States)    4.7     36.0      Dusty Dukatz   \n",
       "7665          April 27, 2020 (Cameroon)    5.7     29.0      Nkanya Nkwai   \n",
       "7666    October 1, 2020 (United States)    NaN      NaN     James Randall   \n",
       "7667    August 19, 2020 (United States)    5.7      7.0      Pereko Mosia   \n",
       "\n",
       "                       writer              star        country      budget  \\\n",
       "1     Henry De Vere Stacpoole    Brooke Shields  United States   4500000.0   \n",
       "10           Stanford Sherman    Clint Eastwood  United States  15000000.0   \n",
       "16           Christopher Gore       Eddie Barth  United States         NaN   \n",
       "19         Bruce Jay Friedman       Gene Wilder  United States         NaN   \n",
       "20           William Friedkin         Al Pacino   West Germany  11000000.0   \n",
       "...                       ...               ...            ...         ...   \n",
       "7663            Joseph Ebanks      Shannon Bond  United States      7000.0   \n",
       "7664              Lisa Huston  Michael Saquella  United States         NaN   \n",
       "7665             Lynno Lovert      Onyama Laura  United States     58750.0   \n",
       "7666            James Randall     Christina Roz  United States     15000.0   \n",
       "7667             Pereko Mosia  Siyabonga Mabaso   South Africa         NaN   \n",
       "\n",
       "            gross                     company  runtime  \n",
       "1      58853106.0           Columbia Pictures    104.0  \n",
       "10     70687344.0         The Malpaso Company    116.0  \n",
       "16     21202829.0   Metro-Goldwyn-Mayer (MGM)    134.0  \n",
       "19    101300000.0           Columbia Pictures    111.0  \n",
       "20     19814523.0  Lorimar Film Entertainment    102.0  \n",
       "...           ...                         ...      ...  \n",
       "7663          NaN                         NaN     90.0  \n",
       "7664          NaN   Cactus Blue Entertainment     90.0  \n",
       "7665          NaN            Embi Productions      NaN  \n",
       "7666          NaN                         NaN    120.0  \n",
       "7667          NaN                 PK 65 Films    102.0  \n",
       "\n",
       "[2253 rows x 15 columns]"
      ]
     },
     "execution_count": 9,
     "metadata": {},
     "output_type": "execute_result"
    }
   ],
   "source": [
    "data.year[[1,10,20,30,40,50,60,70,80,90,100]]=None;\n",
    "data.genre[[1,10,20,30,40,50,60,70,80,90,100]]=None;\n",
    "\n",
    "data[data.isnull().any(axis=1)]"
   ]
  },
  {
   "cell_type": "code",
   "execution_count": 10,
   "id": "15821a70-7fa0-4ff4-afd3-95ecd26a8e63",
   "metadata": {},
   "outputs": [
    {
     "data": {
      "text/plain": [
       "name           0\n",
       "rating        77\n",
       "genre         11\n",
       "year           0\n",
       "released       2\n",
       "score          3\n",
       "votes          3\n",
       "director       0\n",
       "writer         3\n",
       "star           1\n",
       "country        3\n",
       "budget      2171\n",
       "gross        189\n",
       "company       17\n",
       "runtime        4\n",
       "dtype: int64"
      ]
     },
     "execution_count": 10,
     "metadata": {},
     "output_type": "execute_result"
    }
   ],
   "source": [
    "strategi1 = SimpleImputer(strategy=\"most_frequent\")\n",
    "\n",
    "data[\"year\"] = strategi1.fit_transform(data[[\"year\"]])\n",
    "\n",
    "data.isna().sum()"
   ]
  },
  {
   "cell_type": "code",
   "execution_count": 11,
   "id": "bfc9f7c1-fe61-4b4d-9eda-a534bf096764",
   "metadata": {},
   "outputs": [
    {
     "name": "stdout",
     "output_type": "stream",
     "text": [
      "1      1985.0\n",
      "10     1985.0\n",
      "20     1985.0\n",
      "30     1985.0\n",
      "40     1985.0\n",
      "50     1985.0\n",
      "60     1985.0\n",
      "70     1985.0\n",
      "80     1985.0\n",
      "90     1985.0\n",
      "100    1985.0\n",
      "Name: year, dtype: float64\n"
     ]
    }
   ],
   "source": [
    "print(data.year[[1,10,20,30,40,50,60,70,80,90,100]])"
   ]
  },
  {
   "cell_type": "code",
   "execution_count": 12,
   "id": "49e3e30f-aff9-47da-89cc-4e7f5154b2b2",
   "metadata": {},
   "outputs": [],
   "source": [
    "data[\"year\"] = data[\"year\"].astype(\"int\")"
   ]
  },
  {
   "cell_type": "code",
   "execution_count": 13,
   "id": "354b8de5-32e7-4cde-b3dc-b695b4117d47",
   "metadata": {},
   "outputs": [
    {
     "data": {
      "text/plain": [
       "name          0\n",
       "rating       77\n",
       "genre        11\n",
       "year          0\n",
       "released      2\n",
       "score         3\n",
       "votes         3\n",
       "director      0\n",
       "writer        3\n",
       "star          1\n",
       "country       3\n",
       "budget        0\n",
       "gross       189\n",
       "company      17\n",
       "runtime       4\n",
       "dtype: int64"
      ]
     },
     "execution_count": 13,
     "metadata": {},
     "output_type": "execute_result"
    }
   ],
   "source": [
    "strategi2 = SimpleImputer(strategy=\"mean\")\n",
    "\n",
    "data[\"budget\"] = strategi2.fit_transform(data[[\"budget\"]])\n",
    "\n",
    "data.isna().sum()"
   ]
  },
  {
   "cell_type": "code",
   "execution_count": 14,
   "id": "2333191c-25ee-4a86-a614-580360cbb443",
   "metadata": {},
   "outputs": [
    {
     "name": "stdout",
     "output_type": "stream",
     "text": [
      "1      4.500000e+06\n",
      "10     1.500000e+07\n",
      "20     1.100000e+07\n",
      "30     3.558988e+07\n",
      "40     3.558988e+07\n",
      "50     1.000000e+07\n",
      "60     3.558988e+07\n",
      "70     3.558988e+07\n",
      "80     5.100000e+06\n",
      "90     3.558988e+07\n",
      "100    1.100000e+07\n",
      "Name: budget, dtype: float64\n"
     ]
    }
   ],
   "source": [
    "print(data.budget[[1,10,20,30,40,50,60,70,80,90,100]])"
   ]
  },
  {
   "cell_type": "code",
   "execution_count": 15,
   "id": "724baea8-21a7-4e70-b5fa-e9fd76b5e495",
   "metadata": {},
   "outputs": [
    {
     "data": {
      "text/plain": [
       "name          0\n",
       "rating       77\n",
       "genre         0\n",
       "year          0\n",
       "released      2\n",
       "score         3\n",
       "votes         3\n",
       "director      0\n",
       "writer        3\n",
       "star          1\n",
       "country       3\n",
       "budget        0\n",
       "gross       189\n",
       "company      17\n",
       "runtime       4\n",
       "dtype: int64"
      ]
     },
     "execution_count": 15,
     "metadata": {},
     "output_type": "execute_result"
    }
   ],
   "source": [
    "strategi3 = SimpleImputer(missing_values=None, strategy=\"most_frequent\")\n",
    "\n",
    "data[\"genre\"] = strategi3.fit_transform(data[[\"genre\"]]).flatten()\n",
    "\n",
    "data.isna().sum()"
   ]
  },
  {
   "cell_type": "code",
   "execution_count": 16,
   "id": "c63aa0ec-be3f-41d1-8d9f-d23cefe72347",
   "metadata": {},
   "outputs": [
    {
     "name": "stdout",
     "output_type": "stream",
     "text": [
      "1      Comedy\n",
      "10     Comedy\n",
      "20     Comedy\n",
      "30     Comedy\n",
      "40     Comedy\n",
      "50     Comedy\n",
      "60     Comedy\n",
      "70     Comedy\n",
      "80     Comedy\n",
      "90     Comedy\n",
      "100    Comedy\n",
      "Name: genre, dtype: object\n"
     ]
    }
   ],
   "source": [
    "print(data.genre[[1,10,20,30,40,50,60,70,80,90,100]])"
   ]
  },
  {
   "cell_type": "markdown",
   "id": "1cdb1fe5-0a3c-43d1-a49c-fe6f66251811",
   "metadata": {},
   "source": [
    "## Data Cleaning Nilai Duplikat"
   ]
  },
  {
   "cell_type": "code",
   "execution_count": 17,
   "id": "90fc408e-57a3-4037-b64d-17aa6444d72a",
   "metadata": {},
   "outputs": [
    {
     "name": "stdout",
     "output_type": "stream",
     "text": [
      "Jumlah Data Duplikat : \n"
     ]
    },
    {
     "data": {
      "text/plain": [
       "0"
      ]
     },
     "execution_count": 17,
     "metadata": {},
     "output_type": "execute_result"
    }
   ],
   "source": [
    "data[data.duplicated()]\n",
    "\n",
    "print(\"Jumlah Data Duplikat : \")\n",
    "data.duplicated().sum()"
   ]
  },
  {
   "cell_type": "code",
   "execution_count": 18,
   "id": "28c6bd2a-94b3-4134-a4eb-edf742e6b935",
   "metadata": {},
   "outputs": [
    {
     "name": "stdout",
     "output_type": "stream",
     "text": [
      "Jumlah data duplicated sekarang :\n"
     ]
    },
    {
     "data": {
      "text/plain": [
       "7668"
      ]
     },
     "execution_count": 18,
     "metadata": {},
     "output_type": "execute_result"
    }
   ],
   "source": [
    "# Karena tidak ada nilai yang duplikat maka kita membuat nilai yang duplikat\n",
    "make_duplicated = pd.concat([data]*2, ignore_index=True)\n",
    "make_duplicated.duplicated()\n",
    "\n",
    "print(\"Jumlah data duplicated sekarang :\")\n",
    "make_duplicated.duplicated().sum()"
   ]
  },
  {
   "cell_type": "code",
   "execution_count": 19,
   "id": "8064a5bd-c739-43f2-8be5-517cc74cb778",
   "metadata": {},
   "outputs": [
    {
     "name": "stdout",
     "output_type": "stream",
     "text": [
      "Jumlah data duplicated setelah di drop :\n"
     ]
    },
    {
     "data": {
      "text/plain": [
       "0"
      ]
     },
     "execution_count": 19,
     "metadata": {},
     "output_type": "execute_result"
    }
   ],
   "source": [
    "make_duplicated.drop_duplicates(inplace=True)\n",
    "\n",
    "data.drop_duplicates(inplace=True)\n",
    "print(\"Jumlah data duplicated setelah di drop :\")\n",
    "data.duplicated().sum()"
   ]
  },
  {
   "cell_type": "markdown",
   "id": "6a088276-ee4a-45b8-bc95-2b979d1239f7",
   "metadata": {},
   "source": [
    "## Mengubah tipedata Int"
   ]
  },
  {
   "cell_type": "code",
   "execution_count": 20,
   "id": "c2b1d9c2-c6b4-49cf-aed0-374ae22d6a40",
   "metadata": {},
   "outputs": [
    {
     "name": "stdout",
     "output_type": "stream",
     "text": [
      "Tipe data Year sebelum diubah :\n"
     ]
    },
    {
     "data": {
      "text/plain": [
       "dtype('int32')"
      ]
     },
     "execution_count": 20,
     "metadata": {},
     "output_type": "execute_result"
    }
   ],
   "source": [
    "print(\"Tipe data Year sebelum diubah :\")\n",
    "data[\"year\"].dtypes"
   ]
  },
  {
   "cell_type": "code",
   "execution_count": 21,
   "id": "f00a911e-a82b-4caa-8b27-3f7e90c7c29e",
   "metadata": {},
   "outputs": [
    {
     "name": "stdout",
     "output_type": "stream",
     "text": [
      "Tipe data Year setelah diubah :\n"
     ]
    },
    {
     "data": {
      "text/plain": [
       "dtype('float64')"
      ]
     },
     "execution_count": 21,
     "metadata": {},
     "output_type": "execute_result"
    }
   ],
   "source": [
    "ubah_dtype = data[\"year\"].astype(\"float\")\n",
    "print(\"Tipe data Year setelah diubah :\")\n",
    "ubah_dtype.dtypes"
   ]
  },
  {
   "cell_type": "markdown",
   "id": "ccbbb9e5-1b57-4003-8de6-c8d2bc32f2c5",
   "metadata": {},
   "source": [
    "## Melakukan One Hot Encoding"
   ]
  },
  {
   "cell_type": "code",
   "execution_count": 22,
   "id": "ca41b019-8a11-4d75-ab2e-5f035355c30a",
   "metadata": {},
   "outputs": [
    {
     "name": "stderr",
     "output_type": "stream",
     "text": [
      "C:\\Users\\Lenovo - GK\\AppData\\Local\\Programs\\Python\\Python310\\lib\\site-packages\\sklearn\\preprocessing\\_encoders.py:975: FutureWarning: `sparse` was renamed to `sparse_output` in version 1.2 and will be removed in 1.4. `sparse_output` is ignored unless you leave `sparse` to its default value.\n",
      "  warnings.warn(\n"
     ]
    },
    {
     "data": {
      "text/html": [
       "<div>\n",
       "<style scoped>\n",
       "    .dataframe tbody tr th:only-of-type {\n",
       "        vertical-align: middle;\n",
       "    }\n",
       "\n",
       "    .dataframe tbody tr th {\n",
       "        vertical-align: top;\n",
       "    }\n",
       "\n",
       "    .dataframe thead th {\n",
       "        text-align: right;\n",
       "    }\n",
       "</style>\n",
       "<table border=\"1\" class=\"dataframe\">\n",
       "  <thead>\n",
       "    <tr style=\"text-align: right;\">\n",
       "      <th></th>\n",
       "      <th>rating</th>\n",
       "      <th>0</th>\n",
       "      <th>1</th>\n",
       "      <th>2</th>\n",
       "      <th>3</th>\n",
       "      <th>4</th>\n",
       "      <th>5</th>\n",
       "      <th>6</th>\n",
       "      <th>7</th>\n",
       "      <th>8</th>\n",
       "      <th>9</th>\n",
       "      <th>10</th>\n",
       "      <th>11</th>\n",
       "      <th>12</th>\n",
       "    </tr>\n",
       "  </thead>\n",
       "  <tbody>\n",
       "    <tr>\n",
       "      <th>0</th>\n",
       "      <td>R</td>\n",
       "      <td>0.0</td>\n",
       "      <td>0.0</td>\n",
       "      <td>0.0</td>\n",
       "      <td>0.0</td>\n",
       "      <td>0.0</td>\n",
       "      <td>0.0</td>\n",
       "      <td>1.0</td>\n",
       "      <td>0.0</td>\n",
       "      <td>0.0</td>\n",
       "      <td>0.0</td>\n",
       "      <td>0.0</td>\n",
       "      <td>0.0</td>\n",
       "      <td>0.0</td>\n",
       "    </tr>\n",
       "    <tr>\n",
       "      <th>1</th>\n",
       "      <td>R</td>\n",
       "      <td>0.0</td>\n",
       "      <td>0.0</td>\n",
       "      <td>0.0</td>\n",
       "      <td>0.0</td>\n",
       "      <td>0.0</td>\n",
       "      <td>0.0</td>\n",
       "      <td>1.0</td>\n",
       "      <td>0.0</td>\n",
       "      <td>0.0</td>\n",
       "      <td>0.0</td>\n",
       "      <td>0.0</td>\n",
       "      <td>0.0</td>\n",
       "      <td>0.0</td>\n",
       "    </tr>\n",
       "    <tr>\n",
       "      <th>2</th>\n",
       "      <td>PG</td>\n",
       "      <td>0.0</td>\n",
       "      <td>0.0</td>\n",
       "      <td>0.0</td>\n",
       "      <td>0.0</td>\n",
       "      <td>1.0</td>\n",
       "      <td>0.0</td>\n",
       "      <td>0.0</td>\n",
       "      <td>0.0</td>\n",
       "      <td>0.0</td>\n",
       "      <td>0.0</td>\n",
       "      <td>0.0</td>\n",
       "      <td>0.0</td>\n",
       "      <td>0.0</td>\n",
       "    </tr>\n",
       "    <tr>\n",
       "      <th>3</th>\n",
       "      <td>PG</td>\n",
       "      <td>0.0</td>\n",
       "      <td>0.0</td>\n",
       "      <td>0.0</td>\n",
       "      <td>0.0</td>\n",
       "      <td>1.0</td>\n",
       "      <td>0.0</td>\n",
       "      <td>0.0</td>\n",
       "      <td>0.0</td>\n",
       "      <td>0.0</td>\n",
       "      <td>0.0</td>\n",
       "      <td>0.0</td>\n",
       "      <td>0.0</td>\n",
       "      <td>0.0</td>\n",
       "    </tr>\n",
       "    <tr>\n",
       "      <th>4</th>\n",
       "      <td>R</td>\n",
       "      <td>0.0</td>\n",
       "      <td>0.0</td>\n",
       "      <td>0.0</td>\n",
       "      <td>0.0</td>\n",
       "      <td>0.0</td>\n",
       "      <td>0.0</td>\n",
       "      <td>1.0</td>\n",
       "      <td>0.0</td>\n",
       "      <td>0.0</td>\n",
       "      <td>0.0</td>\n",
       "      <td>0.0</td>\n",
       "      <td>0.0</td>\n",
       "      <td>0.0</td>\n",
       "    </tr>\n",
       "    <tr>\n",
       "      <th>5</th>\n",
       "      <td>R</td>\n",
       "      <td>0.0</td>\n",
       "      <td>0.0</td>\n",
       "      <td>0.0</td>\n",
       "      <td>0.0</td>\n",
       "      <td>0.0</td>\n",
       "      <td>0.0</td>\n",
       "      <td>1.0</td>\n",
       "      <td>0.0</td>\n",
       "      <td>0.0</td>\n",
       "      <td>0.0</td>\n",
       "      <td>0.0</td>\n",
       "      <td>0.0</td>\n",
       "      <td>0.0</td>\n",
       "    </tr>\n",
       "    <tr>\n",
       "      <th>6</th>\n",
       "      <td>R</td>\n",
       "      <td>0.0</td>\n",
       "      <td>0.0</td>\n",
       "      <td>0.0</td>\n",
       "      <td>0.0</td>\n",
       "      <td>0.0</td>\n",
       "      <td>0.0</td>\n",
       "      <td>1.0</td>\n",
       "      <td>0.0</td>\n",
       "      <td>0.0</td>\n",
       "      <td>0.0</td>\n",
       "      <td>0.0</td>\n",
       "      <td>0.0</td>\n",
       "      <td>0.0</td>\n",
       "    </tr>\n",
       "    <tr>\n",
       "      <th>7</th>\n",
       "      <td>R</td>\n",
       "      <td>0.0</td>\n",
       "      <td>0.0</td>\n",
       "      <td>0.0</td>\n",
       "      <td>0.0</td>\n",
       "      <td>0.0</td>\n",
       "      <td>0.0</td>\n",
       "      <td>1.0</td>\n",
       "      <td>0.0</td>\n",
       "      <td>0.0</td>\n",
       "      <td>0.0</td>\n",
       "      <td>0.0</td>\n",
       "      <td>0.0</td>\n",
       "      <td>0.0</td>\n",
       "    </tr>\n",
       "    <tr>\n",
       "      <th>8</th>\n",
       "      <td>PG</td>\n",
       "      <td>0.0</td>\n",
       "      <td>0.0</td>\n",
       "      <td>0.0</td>\n",
       "      <td>0.0</td>\n",
       "      <td>1.0</td>\n",
       "      <td>0.0</td>\n",
       "      <td>0.0</td>\n",
       "      <td>0.0</td>\n",
       "      <td>0.0</td>\n",
       "      <td>0.0</td>\n",
       "      <td>0.0</td>\n",
       "      <td>0.0</td>\n",
       "      <td>0.0</td>\n",
       "    </tr>\n",
       "    <tr>\n",
       "      <th>9</th>\n",
       "      <td>R</td>\n",
       "      <td>0.0</td>\n",
       "      <td>0.0</td>\n",
       "      <td>0.0</td>\n",
       "      <td>0.0</td>\n",
       "      <td>0.0</td>\n",
       "      <td>0.0</td>\n",
       "      <td>1.0</td>\n",
       "      <td>0.0</td>\n",
       "      <td>0.0</td>\n",
       "      <td>0.0</td>\n",
       "      <td>0.0</td>\n",
       "      <td>0.0</td>\n",
       "      <td>0.0</td>\n",
       "    </tr>\n",
       "  </tbody>\n",
       "</table>\n",
       "</div>"
      ],
      "text/plain": [
       "  rating    0    1    2    3    4    5    6    7    8    9   10   11   12\n",
       "0      R  0.0  0.0  0.0  0.0  0.0  0.0  1.0  0.0  0.0  0.0  0.0  0.0  0.0\n",
       "1      R  0.0  0.0  0.0  0.0  0.0  0.0  1.0  0.0  0.0  0.0  0.0  0.0  0.0\n",
       "2     PG  0.0  0.0  0.0  0.0  1.0  0.0  0.0  0.0  0.0  0.0  0.0  0.0  0.0\n",
       "3     PG  0.0  0.0  0.0  0.0  1.0  0.0  0.0  0.0  0.0  0.0  0.0  0.0  0.0\n",
       "4      R  0.0  0.0  0.0  0.0  0.0  0.0  1.0  0.0  0.0  0.0  0.0  0.0  0.0\n",
       "5      R  0.0  0.0  0.0  0.0  0.0  0.0  1.0  0.0  0.0  0.0  0.0  0.0  0.0\n",
       "6      R  0.0  0.0  0.0  0.0  0.0  0.0  1.0  0.0  0.0  0.0  0.0  0.0  0.0\n",
       "7      R  0.0  0.0  0.0  0.0  0.0  0.0  1.0  0.0  0.0  0.0  0.0  0.0  0.0\n",
       "8     PG  0.0  0.0  0.0  0.0  1.0  0.0  0.0  0.0  0.0  0.0  0.0  0.0  0.0\n",
       "9      R  0.0  0.0  0.0  0.0  0.0  0.0  1.0  0.0  0.0  0.0  0.0  0.0  0.0"
      ]
     },
     "execution_count": 22,
     "metadata": {},
     "output_type": "execute_result"
    }
   ],
   "source": [
    "one_hot = OneHotEncoder(sparse=False)\n",
    "\n",
    "data_onehot = one_hot.fit_transform(data[[\"rating\"]])\n",
    "df_onehot = pd.DataFrame(data_onehot)\n",
    "df_oh = data[['rating']].join(df_onehot)\n",
    "\n",
    "\n",
    "df_oh.head(10)"
   ]
  }
 ],
 "metadata": {
  "kernelspec": {
   "display_name": "Python 3 (ipykernel)",
   "language": "python",
   "name": "python3"
  },
  "language_info": {
   "codemirror_mode": {
    "name": "ipython",
    "version": 3
   },
   "file_extension": ".py",
   "mimetype": "text/x-python",
   "name": "python",
   "nbconvert_exporter": "python",
   "pygments_lexer": "ipython3",
   "version": "3.10.7"
  }
 },
 "nbformat": 4,
 "nbformat_minor": 5
}
